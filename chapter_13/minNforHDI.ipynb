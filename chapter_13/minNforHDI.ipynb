{
 "cells": [
  {
   "cell_type": "code",
   "execution_count": 31,
   "metadata": {},
   "outputs": [],
   "source": [
    "import pymc3 as pm\n",
    "import numpy as np\n",
    "import matplotlib.pyplot as plt\n",
    "import seaborn as sns\n",
    "from scipy.special import binom, betaln\n",
    "from scipy.stats import beta\n",
    "from scipy.optimize import fmin \n",
    "import sys"
   ]
  },
  {
   "cell_type": "markdown",
   "metadata": {},
   "source": [
    "### Introduction\n",
    "\n",
    "Implementation of the minimum number of samples needed for acheive a specific HDI width, given psuedo variables."
   ]
  },
  {
   "cell_type": "code",
   "execution_count": 30,
   "metadata": {},
   "outputs": [],
   "source": [
    "def HDIofICDF(dist_name, credMass=0.95, **args):\n",
    "    # freeze distribution with given arguments\n",
    "    distri = dist_name(**args)\n",
    "    # initial guess for HDIlowTailPr\n",
    "    incredMass =  1.0 - credMass\n",
    "\n",
    "    def intervalWidth(lowTailPr):\n",
    "        return distri.ppf(credMass + lowTailPr) - distri.ppf(lowTailPr)\n",
    "\n",
    "    # find lowTailPr that minimizes intervalWidth\n",
    "    HDIlowTailPr = fmin(intervalWidth, incredMass, ftol=1e-8, disp=False)[0]\n",
    "    # return interval as array([low, high])\n",
    "    return distri.ppf([HDIlowTailPr, credMass + HDIlowTailPr])"
   ]
  },
  {
   "cell_type": "code",
   "execution_count": 32,
   "metadata": {},
   "outputs": [],
   "source": [
    "def minNforHDIPower(\n",
    "    gen_prior_mean, \n",
    "    gen_prior_n,\n",
    "    hdi_max_width=None,\n",
    "    null_val=None,\n",
    "    rope=None,\n",
    "    desired_power=0.8,\n",
    "    aud_prior_mean=0.5,\n",
    "    aud_prior_n = 2,\n",
    "    hdi_mass=0.95,\n",
    "    init_sample_size=1,\n",
    "    verbose=True\n",
    "):\n",
    "    if hdi_max_width != None and null_val != None:\n",
    "        print(\"Only one of hdi_max_width or null_val should be specified\")\n",
    "        sys.exit(0)\n",
    "    if rope == None:\n",
    "        rope = [null_val, null_val]\n",
    "    gen_prior_a = gen_prior_mean * gen_prior_n\n",
    "    gen_priob_b = (1.0 - gen_prior_mean) * gen_prior_n\n",
    "    \n",
    "    aud_prior_a = aud_prior_mean * aud_prior_n\n",
    "    aud_prior_b = (1.0 - aud_prior_mean) * aud_prior_n\n",
    "    \n",
    "    sample_size = init_sample_size\n",
    "    \n",
    "    # Increment sample size till power is acheived\n",
    "    while True:\n",
    "        # All possible values of z i.e all possible number of z heads possible in N flips.\n",
    "        zvec = np.arange(0, sample_size + 1)\n",
    "        \n",
    "        # Compute probability of each z value for the data-generating prior\n",
    "        pzvec = np.exp(np.log(binom(sample_size, zvec))\n",
    "                + betaln(zvec + gen_prior_a, sample_size - zvec + gen_priob_b)\n",
    "                - betaln(gen_prior_a, gen_priob_b))\n",
    "        \n",
    "        hdi_mat = np.zeros((len(zvec), 2))\n",
    "        \n",
    "        for z_idx, z_val in enumerate(zvec):\n",
    "            hdi_mat[z_idx] = HDIofICDF(\n",
    "                beta, \n",
    "                credMass=hdi_mass,\n",
    "                a=(z_val + aud_prior_a),\n",
    "                b=(sample_size - z_val + aud_prior_b)\n",
    "            )\n",
    "            \n",
    "        power_hdi = 0\n",
    "        if hdi_max_width != None:\n",
    "            hdi_width = hdi_mat[:, 1] - hdi_mat[:, 0]\n",
    "            power_hdi = np.sum(pzvec[hdi_width < hdi_max_width])\n",
    "        \n",
    "        if null_val != None:\n",
    "            power_hdi = np.sum(pzvec[(hdi_mat[:, 0] > rope[1]) | (hdi_mat[:, 1] < rope[0])])\n",
    "            \n",
    "        if verbose:\n",
    "            print(\"For sample size {} \\n Power: {}\".format(sample_size, power_hdi))\n",
    "        \n",
    "        if power_hdi > desired_power:\n",
    "            break\n",
    "        else:\n",
    "            sample_size += 1\n",
    "    return sample_size"
   ]
  },
  {
   "cell_type": "code",
   "execution_count": 35,
   "metadata": {},
   "outputs": [
    {
     "name": "stdout",
     "output_type": "stream",
     "text": [
      "For sample size 1 \n",
      " Power: 0.0\n",
      "For sample size 2 \n",
      " Power: 0.0\n",
      "For sample size 3 \n",
      " Power: 0.0\n",
      "For sample size 4 \n",
      " Power: 0.5488424618859402\n",
      "For sample size 5 \n",
      " Power: 0.4792490118577074\n",
      "For sample size 6 \n",
      " Power: 0.4214624505928853\n",
      "For sample size 7 \n",
      " Power: 0.7137549407114623\n",
      "For sample size 8 \n",
      " Power: 0.6628600385122122\n",
      "For sample size 9 \n",
      " Power: 0.6153568170959478\n",
      "For sample size 10 \n",
      " Power: 0.7918803834845813\n",
      "For sample size 11 \n",
      " Power: 0.7549442311811129\n",
      "For sample size 12 \n",
      " Power: 0.7186577926917433\n",
      "For sample size 13 \n",
      " Power: 0.8364234933224627\n",
      "For sample size 14 \n",
      " Power: 0.8085098579742385\n",
      "For sample size 15 \n",
      " Power: 0.7803561562327331\n",
      "For sample size 16 \n",
      " Power: 0.8647358139112257\n",
      "For sample size 17 \n",
      " Power: 0.8428173743040511\n",
      "For sample size 18 \n",
      " Power: 0.9011455574424082\n",
      "For sample size 19 \n",
      " Power: 0.884098467529333\n",
      "For sample size 20 \n",
      " Power: 0.8663361553626093\n",
      "For sample size 21 \n",
      " Power: 0.9121766612867831\n",
      "For sample size 22 \n",
      " Power: 0.8980626980339392\n",
      "For sample size 23 \n",
      " Power: 0.8832965146985465\n",
      "For sample size 24 \n",
      " Power: 0.9205035099198462\n",
      "For sample size 25 \n",
      " Power: 0.908548772965466\n",
      "For sample size 26 \n",
      " Power: 0.9367474625166254\n",
      "For sample size 27 \n",
      " Power: 0.9269898936557615\n",
      "For sample size 28 \n",
      " Power: 0.9166773187814217\n",
      "For sample size 29 \n",
      " Power: 0.940722048753678\n",
      "For sample size 30 \n",
      " Power: 0.9321720336812516\n",
      "For sample size 31 \n",
      " Power: 0.9511348426161332\n"
     ]
    },
    {
     "data": {
      "text/plain": [
       "31"
      ]
     },
     "execution_count": 35,
     "metadata": {},
     "output_type": "execute_result"
    }
   ],
   "source": [
    "minNforHDIPower(gen_prior_mean=0.85, gen_prior_n=20, null_val=0.5, desired_power=0.95, verbose=True)"
   ]
  },
  {
   "cell_type": "code",
   "execution_count": null,
   "metadata": {},
   "outputs": [],
   "source": []
  }
 ],
 "metadata": {
  "kernelspec": {
   "display_name": "Python 3",
   "language": "python",
   "name": "python3"
  },
  "language_info": {
   "codemirror_mode": {
    "name": "ipython",
    "version": 3
   },
   "file_extension": ".py",
   "mimetype": "text/x-python",
   "name": "python",
   "nbconvert_exporter": "python",
   "pygments_lexer": "ipython3",
   "version": "3.6.6"
  }
 },
 "nbformat": 4,
 "nbformat_minor": 2
}
